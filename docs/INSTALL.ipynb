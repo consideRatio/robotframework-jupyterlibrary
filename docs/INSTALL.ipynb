{
 "cells": [
  {
   "cell_type": "markdown",
   "metadata": {},
   "source": [
    "# INSTALL\n",
    "Installing `JupyterLibrary` will bring along Robot Framework and SeleniumLibrary. Jupyter components, like `notebook`, `jupyterlab` and `nteract_on_jupyter`, and browser executors (e.g. `chromedriver`, `geckodriver`) and various utilities (e.g. `nodejs`) are up to you, depending on what you want to test. Here are some examples."
   ]
  },
  {
   "cell_type": "markdown",
   "metadata": {},
   "source": [
    "## `pip`\n",
    "```bash\n",
    "pip install robotframework-jupyterlibrary\n",
    "```"
   ]
  },
  {
   "cell_type": "markdown",
   "metadata": {},
   "source": [
    "## `conda`\n",
    "```bash\n",
    "conda install -c conda-forge robotframework-jupyterlibrary\n",
    "```"
   ]
  },
  {
   "cell_type": "markdown",
   "metadata": {},
   "source": [
    "## `master`\n",
    "`JupyterLibrary` is under active development, and is heavily invested in `conda` because of the complexity of managing browser execution dependencies. But `conda` (rightly) makes it hard to install Random Repos from the Internet, so you'll need a bit of `pip`, too. \n",
    "\n",
    "Here's a complete setup:\n",
    "```shell\n",
    "conda create --name testing-jupyter --channel conda-forge \n",
    "  python=3 \\   # 3.6 required, not tested with pypy  \n",
    "  jupyterlab \\\n",
    "  robotframework-seleniumlibrary \\\n",
    "  geckodriver\n",
    "\n",
    "conda activate testing-jupyter\n",
    "\n",
    "pip install --no-deps \\             # don't want any surprises\n",
    "  git+http://github.com/robots-from-jupyter/robotframework-jupyterlibrary\n",
    "```"
   ]
  },
  {
   "cell_type": "markdown",
   "metadata": {
    "tags": [
     "remove-input"
    ]
   },
   "source": [
    "```{include} ../CONTRIBUTING.md\n",
    "```"
   ]
  },
  {
   "cell_type": "markdown",
   "metadata": {},
   "source": [
    "### Appendix: Current tasks"
   ]
  },
  {
   "cell_type": "code",
   "execution_count": null,
   "metadata": {
    "tags": [
     "remove-input"
    ]
   },
   "outputs": [],
   "source": [
    "!python ../dodo.py list --all --status"
   ]
  }
 ],
 "metadata": {
  "kernelspec": {
   "display_name": "Python 3",
   "language": "python",
   "name": "python3"
  },
  "language_info": {
   "codemirror_mode": {
    "name": "ipython",
    "version": 3
   },
   "file_extension": ".py",
   "mimetype": "text/x-python",
   "name": "python",
   "nbconvert_exporter": "python",
   "pygments_lexer": "ipython3",
   "version": "3.9.2"
  },
  "nteract": {
   "version": "nteract-on-jupyter@0.35.4"
  }
 },
 "nbformat": 4,
 "nbformat_minor": 4
}
